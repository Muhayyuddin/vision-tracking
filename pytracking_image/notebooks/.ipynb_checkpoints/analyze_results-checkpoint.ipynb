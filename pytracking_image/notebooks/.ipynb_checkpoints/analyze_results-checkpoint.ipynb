{
 "cells": [
  {
   "cell_type": "markdown",
   "metadata": {},
   "source": [
    "# Generating Results on Datasets"
   ]
  },
  {
   "cell_type": "code",
   "execution_count": 7,
   "metadata": {},
   "outputs": [
    {
     "name": "stdout",
     "output_type": "stream",
     "text": [
      "Collecting tikzplotlib\n",
      "  Using cached tikzplotlib-0.10.1-py3-none-any.whl (54 kB)\n",
      "Requirement already satisfied: Pillow in /home/mbzirc/anaconda3/lib/python3.10/site-packages (from tikzplotlib) (9.4.0)\n",
      "Requirement already satisfied: matplotlib>=1.4.0 in /home/mbzirc/anaconda3/lib/python3.10/site-packages (from tikzplotlib) (3.7.0)\n",
      "Collecting webcolors\n",
      "  Downloading webcolors-24.8.0-py3-none-any.whl (15 kB)\n",
      "Requirement already satisfied: numpy in /home/mbzirc/anaconda3/lib/python3.10/site-packages (from tikzplotlib) (1.23.5)\n",
      "Requirement already satisfied: pyparsing>=2.3.1 in /home/mbzirc/anaconda3/lib/python3.10/site-packages (from matplotlib>=1.4.0->tikzplotlib) (3.0.9)\n",
      "Requirement already satisfied: packaging>=20.0 in /home/mbzirc/anaconda3/lib/python3.10/site-packages (from matplotlib>=1.4.0->tikzplotlib) (22.0)\n",
      "Requirement already satisfied: contourpy>=1.0.1 in /home/mbzirc/anaconda3/lib/python3.10/site-packages (from matplotlib>=1.4.0->tikzplotlib) (1.0.5)\n",
      "Requirement already satisfied: cycler>=0.10 in /home/mbzirc/anaconda3/lib/python3.10/site-packages (from matplotlib>=1.4.0->tikzplotlib) (0.11.0)\n",
      "Requirement already satisfied: kiwisolver>=1.0.1 in /home/mbzirc/anaconda3/lib/python3.10/site-packages (from matplotlib>=1.4.0->tikzplotlib) (1.4.4)\n",
      "Requirement already satisfied: python-dateutil>=2.7 in /home/mbzirc/anaconda3/lib/python3.10/site-packages (from matplotlib>=1.4.0->tikzplotlib) (2.8.2)\n",
      "Requirement already satisfied: fonttools>=4.22.0 in /home/mbzirc/anaconda3/lib/python3.10/site-packages (from matplotlib>=1.4.0->tikzplotlib) (4.25.0)\n",
      "Requirement already satisfied: six>=1.5 in /home/mbzirc/anaconda3/lib/python3.10/site-packages (from python-dateutil>=2.7->matplotlib>=1.4.0->tikzplotlib) (1.16.0)\n",
      "Installing collected packages: webcolors, tikzplotlib\n",
      "Successfully installed tikzplotlib-0.10.1 webcolors-24.8.0\n",
      "\u001b[33mWARNING: There was an error checking the latest version of pip.\u001b[0m\u001b[33m\n",
      "\u001b[0m"
     ]
    }
   ],
   "source": [
    "import sys\n",
    "!{sys.executable} -m pip install tikzplotlib"
   ]
  },
  {
   "cell_type": "code",
   "execution_count": 8,
   "metadata": {},
   "outputs": [
    {
     "name": "stdout",
     "output_type": "stream",
     "text": [
      "/home/mbzirc/anaconda3/bin/python\n"
     ]
    }
   ],
   "source": [
    "import sys\n",
    "print(sys.executable)"
   ]
  },
  {
   "cell_type": "code",
   "execution_count": 9,
   "metadata": {},
   "outputs": [
    {
     "name": "stdout",
     "output_type": "stream",
     "text": [
      "The autoreload extension is already loaded. To reload it, use:\n",
      "  %reload_ext autoreload\n"
     ]
    }
   ],
   "source": [
    "%load_ext autoreload\n",
    "%autoreload 2\n",
    "%matplotlib inline\n",
    "import os\n",
    "import sys\n",
    "import matplotlib.pyplot as plt\n",
    "plt.rcParams['figure.figsize'] = [14, 8]\n",
    "\n",
    "sys.path.append('../..')\n",
    "from pytracking.analysis.plot_results import plot_results, print_results, print_per_sequence_results\n",
    "from pytracking.evaluation import Tracker, get_dataset, trackerlist"
   ]
  },
  {
   "cell_type": "markdown",
   "metadata": {},
   "source": [
    "## Plots for OTB, NFS and UAV"
   ]
  },
  {
   "cell_type": "code",
   "execution_count": 13,
   "metadata": {},
   "outputs": [
    {
     "name": "stdout",
     "output_type": "stream",
     "text": [
      "/home/mbzirc/Downloads/AhsanBB/Dataset_Paper/Codes/Pytracking_New/pytracking/pytracking/tracker/atom 44444444444444444444 atom\n",
      "/home/mbzirc/Downloads/AhsanBB/Dataset_Paper/Codes/Pytracking_New/pytracking/pytracking/tracker/dimp 44444444444444444444 dimp\n",
      "/home/mbzirc/Downloads/AhsanBB/Dataset_Paper/Codes/Pytracking_New/pytracking/pytracking/tracker/dimp 44444444444444444444 dimp\n",
      "/home/mbzirc/Downloads/AhsanBB/Dataset_Paper/Codes/Pytracking_New/pytracking/pytracking/tracker/dimp 44444444444444444444 dimp\n",
      "/home/mbzirc/Downloads/AhsanBB/Dataset_Paper/Codes/Pytracking_New/pytracking/pytracking/tracker/dimp 44444444444444444444 dimp\n",
      "/home/mbzirc/Downloads/AhsanBB/Dataset_Paper/Codes/Pytracking_New/pytracking/pytracking/tracker/dimp 44444444444444444444 dimp\n",
      "/home/mbzirc/Downloads/AhsanBB/Dataset_Paper/Codes/Pytracking_New/pytracking/pytracking/tracker/tomp 44444444444444444444 tomp\n",
      "/home/mbzirc/Downloads/AhsanBB/Dataset_Paper/Codes/Pytracking_New/pytracking/pytracking/tracker/tomp 44444444444444444444 tomp\n",
      "/home/mbzirc/Downloads/AhsanBB/Dataset_Paper/Codes/Pytracking_New/pytracking/pytracking/tracker/tomp 44444444444444444444 tomp\n",
      "/home/mbzirc/Downloads/AhsanBB/Dataset_Paper/Codes/Pytracking_New/pytracking/pytracking/tracker/tomp 44444444444444444444 tomp\n",
      "/home/mbzirc/Downloads/AhsanBB/Dataset_Paper/Codes/Pytracking_New/pytracking/pytracking/tracker/tomp 44444444444444444444 tomp\n",
      "/home/mbzirc/Downloads/AhsanBB/Dataset_Paper/Codes/Pytracking_New/pytracking/pytracking/tracker/tamos 44444444444444444444 tamos\n",
      "/home/mbzirc/Downloads/AhsanBB/Dataset_Paper/Codes/Pytracking_New/pytracking/pytracking/tracker/tamos 44444444444444444444 tamos\n",
      "/home/mbzirc/Downloads/AhsanBB/Dataset_Paper/Codes/Pytracking_New/pytracking/pytracking/tracker/tamos 44444444444444444444 tamos\n",
      "/home/mbzirc/Downloads/AhsanBB/Dataset_Paper/Codes/Pytracking_New/pytracking/pytracking/tracker/tamos 44444444444444444444 tamos\n",
      "/home/mbzirc/Downloads/AhsanBB/Dataset_Paper/Codes/Pytracking_New/pytracking/pytracking/tracker/tamos 44444444444444444444 tamos\n"
     ]
    },
    {
     "name": "stderr",
     "output_type": "stream",
     "text": [
      "  0%|                                                     | 0/2 [00:00<?, ?it/s]\n"
     ]
    },
    {
     "ename": "Exception",
     "evalue": "Result not found. /home/mbzirc/Downloads/AhsanBB/Dataset_Paper/Codes/Pytracking_New/pytracking/pytracking/tracking_results/atom/default/T2-6.txt",
     "output_type": "error",
     "traceback": [
      "\u001b[0;31m---------------------------------------------------------------------------\u001b[0m",
      "\u001b[0;31mException\u001b[0m                                 Traceback (most recent call last)",
      "Cell \u001b[0;32mIn[13], line 8\u001b[0m\n\u001b[1;32m      5\u001b[0m trackers\u001b[38;5;241m.\u001b[39mextend(trackerlist(\u001b[38;5;124m'\u001b[39m\u001b[38;5;124mtamos\u001b[39m\u001b[38;5;124m'\u001b[39m, \u001b[38;5;124m'\u001b[39m\u001b[38;5;124mtamos_resenet50\u001b[39m\u001b[38;5;124m'\u001b[39m, \u001b[38;5;28mrange\u001b[39m(\u001b[38;5;241m0\u001b[39m,\u001b[38;5;241m5\u001b[39m), \u001b[38;5;124m'\u001b[39m\u001b[38;5;124mTaMOs\u001b[39m\u001b[38;5;124m'\u001b[39m))\n\u001b[1;32m      7\u001b[0m dataset \u001b[38;5;241m=\u001b[39m get_dataset(\u001b[38;5;124m'\u001b[39m\u001b[38;5;124mgot10k_test\u001b[39m\u001b[38;5;124m'\u001b[39m)\n\u001b[0;32m----> 8\u001b[0m \u001b[43mplot_results\u001b[49m\u001b[43m(\u001b[49m\u001b[43mtrackers\u001b[49m\u001b[43m,\u001b[49m\u001b[43m \u001b[49m\u001b[43mdataset\u001b[49m\u001b[43m,\u001b[49m\u001b[43m \u001b[49m\u001b[38;5;124;43m'\u001b[39;49m\u001b[38;5;124;43mgot10k\u001b[39;49m\u001b[38;5;124;43m'\u001b[39;49m\u001b[43m,\u001b[49m\u001b[43m \u001b[49m\u001b[43mmerge_results\u001b[49m\u001b[38;5;241;43m=\u001b[39;49m\u001b[38;5;28;43;01mTrue\u001b[39;49;00m\u001b[43m,\u001b[49m\u001b[43m \u001b[49m\u001b[43mplot_types\u001b[49m\u001b[38;5;241;43m=\u001b[39;49m\u001b[43m(\u001b[49m\u001b[38;5;124;43m'\u001b[39;49m\u001b[38;5;124;43msuccess\u001b[39;49m\u001b[38;5;124;43m'\u001b[39;49m\u001b[43m,\u001b[49m\u001b[43m \u001b[49m\u001b[38;5;124;43m'\u001b[39;49m\u001b[38;5;124;43mprec\u001b[39;49m\u001b[38;5;124;43m'\u001b[39;49m\u001b[43m,\u001b[49m\u001b[43m \u001b[49m\u001b[38;5;124;43m'\u001b[39;49m\u001b[38;5;124;43mnorm_prec\u001b[39;49m\u001b[38;5;124;43m'\u001b[39;49m\u001b[43m)\u001b[49m\u001b[43m,\u001b[49m\u001b[43m \u001b[49m\u001b[43mskip_missing_seq\u001b[49m\u001b[38;5;241;43m=\u001b[39;49m\u001b[38;5;28;43;01mFalse\u001b[39;49;00m\u001b[43m,\u001b[49m\u001b[43m \u001b[49m\u001b[43mforce_evaluation\u001b[49m\u001b[38;5;241;43m=\u001b[39;49m\u001b[38;5;28;43;01mTrue\u001b[39;49;00m\u001b[43m,\u001b[49m\u001b[43m \u001b[49m\u001b[43mplot_bin_gap\u001b[49m\u001b[38;5;241;43m=\u001b[39;49m\u001b[38;5;241;43m0.05\u001b[39;49m\u001b[43m,\u001b[49m\u001b[43m \u001b[49m\u001b[43mexclude_invalid_frames\u001b[49m\u001b[38;5;241;43m=\u001b[39;49m\u001b[38;5;28;43;01mFalse\u001b[39;49;00m\u001b[43m)\u001b[49m\n\u001b[1;32m      9\u001b[0m print_results(trackers, dataset, \u001b[38;5;124m'\u001b[39m\u001b[38;5;124mgot10k\u001b[39m\u001b[38;5;124m'\u001b[39m, merge_results\u001b[38;5;241m=\u001b[39m\u001b[38;5;28;01mTrue\u001b[39;00m, plot_types\u001b[38;5;241m=\u001b[39m(\u001b[38;5;124m'\u001b[39m\u001b[38;5;124msuccess\u001b[39m\u001b[38;5;124m'\u001b[39m, \u001b[38;5;124m'\u001b[39m\u001b[38;5;124mprec\u001b[39m\u001b[38;5;124m'\u001b[39m, \u001b[38;5;124m'\u001b[39m\u001b[38;5;124mnorm_prec\u001b[39m\u001b[38;5;124m'\u001b[39m))\n",
      "File \u001b[0;32m~/Downloads/AhsanBB/Dataset_Paper/Codes/Pytracking_New/pytracking/pytracking/notebooks/../../pytracking/analysis/plot_results.py:234\u001b[0m, in \u001b[0;36mplot_results\u001b[0;34m(trackers, dataset, report_name, merge_results, plot_types, force_evaluation, plot_opts, **kwargs)\u001b[0m\n\u001b[1;32m    232\u001b[0m \u001b[38;5;66;03m# Load pre-computed results\u001b[39;00m\n\u001b[1;32m    233\u001b[0m result_plot_path \u001b[38;5;241m=\u001b[39m os\u001b[38;5;241m.\u001b[39mpath\u001b[38;5;241m.\u001b[39mjoin(settings\u001b[38;5;241m.\u001b[39mresult_plot_path, report_name)\n\u001b[0;32m--> 234\u001b[0m eval_data \u001b[38;5;241m=\u001b[39m \u001b[43mcheck_and_load_precomputed_results\u001b[49m\u001b[43m(\u001b[49m\u001b[43mtrackers\u001b[49m\u001b[43m,\u001b[49m\u001b[43m \u001b[49m\u001b[43mdataset\u001b[49m\u001b[43m,\u001b[49m\u001b[43m \u001b[49m\u001b[43mreport_name\u001b[49m\u001b[43m,\u001b[49m\u001b[43m \u001b[49m\u001b[43mforce_evaluation\u001b[49m\u001b[43m,\u001b[49m\u001b[43m \u001b[49m\u001b[38;5;241;43m*\u001b[39;49m\u001b[38;5;241;43m*\u001b[39;49m\u001b[43mkwargs\u001b[49m\u001b[43m)\u001b[49m\n\u001b[1;32m    236\u001b[0m \u001b[38;5;66;03m# Merge results from multiple runs\u001b[39;00m\n\u001b[1;32m    237\u001b[0m \u001b[38;5;28;01mif\u001b[39;00m merge_results:\n",
      "File \u001b[0;32m~/Downloads/AhsanBB/Dataset_Paper/Codes/Pytracking_New/pytracking/pytracking/notebooks/../../pytracking/analysis/plot_results.py:182\u001b[0m, in \u001b[0;36mcheck_and_load_precomputed_results\u001b[0;34m(trackers, dataset, report_name, force_evaluation, f1_prec_rec, **kwargs)\u001b[0m\n\u001b[1;32m    180\u001b[0m         eval_data \u001b[38;5;241m=\u001b[39m extract_results_prec_rec_f1(trackers, dataset, report_name, \u001b[38;5;241m*\u001b[39m\u001b[38;5;241m*\u001b[39mkwargs)\n\u001b[1;32m    181\u001b[0m     \u001b[38;5;28;01melse\u001b[39;00m:\n\u001b[0;32m--> 182\u001b[0m         eval_data \u001b[38;5;241m=\u001b[39m \u001b[43mextract_results\u001b[49m\u001b[43m(\u001b[49m\u001b[43mtrackers\u001b[49m\u001b[43m,\u001b[49m\u001b[43m \u001b[49m\u001b[43mdataset\u001b[49m\u001b[43m,\u001b[49m\u001b[43m \u001b[49m\u001b[43mreport_name\u001b[49m\u001b[43m,\u001b[49m\u001b[43m \u001b[49m\u001b[38;5;241;43m*\u001b[39;49m\u001b[38;5;241;43m*\u001b[39;49m\u001b[43mkwargs\u001b[49m\u001b[43m)\u001b[49m\n\u001b[1;32m    184\u001b[0m \u001b[38;5;28;01mif\u001b[39;00m \u001b[38;5;129;01mnot\u001b[39;00m check_eval_data_is_valid(eval_data, trackers, dataset):\n\u001b[1;32m    185\u001b[0m     \u001b[38;5;66;03m# print('Pre-computed evaluation data invalid. Re-computing results!')\u001b[39;00m\n\u001b[1;32m    186\u001b[0m     eval_data \u001b[38;5;241m=\u001b[39m extract_results(trackers, dataset, report_name, \u001b[38;5;241m*\u001b[39m\u001b[38;5;241m*\u001b[39mkwargs)\n",
      "File \u001b[0;32m~/Downloads/AhsanBB/Dataset_Paper/Codes/Pytracking_New/pytracking/pytracking/notebooks/../../pytracking/analysis/extract_results.py:143\u001b[0m, in \u001b[0;36mextract_results\u001b[0;34m(trackers, dataset, report_name, skip_missing_seq, plot_bin_gap, exclude_invalid_frames, verbose)\u001b[0m\n\u001b[1;32m    141\u001b[0m         \u001b[38;5;28;01mbreak\u001b[39;00m\n\u001b[1;32m    142\u001b[0m     \u001b[38;5;28;01melse\u001b[39;00m:\n\u001b[0;32m--> 143\u001b[0m         \u001b[38;5;28;01mraise\u001b[39;00m \u001b[38;5;167;01mException\u001b[39;00m(\u001b[38;5;124m'\u001b[39m\u001b[38;5;124mResult not found. \u001b[39m\u001b[38;5;132;01m{}\u001b[39;00m\u001b[38;5;124m'\u001b[39m\u001b[38;5;241m.\u001b[39mformat(results_path))\n\u001b[1;32m    145\u001b[0m \u001b[38;5;66;03m# Calculate measures\u001b[39;00m\n\u001b[1;32m    146\u001b[0m err_overlap, err_center, err_center_normalized, valid_frame \u001b[38;5;241m=\u001b[39m calc_seq_err_robust(\n\u001b[1;32m    147\u001b[0m     pred_bb, anno_bb, seq\u001b[38;5;241m.\u001b[39mdataset, target_visible)\n",
      "\u001b[0;31mException\u001b[0m: Result not found. /home/mbzirc/Downloads/AhsanBB/Dataset_Paper/Codes/Pytracking_New/pytracking/pytracking/tracking_results/atom/default/T2-6.txt"
     ]
    }
   ],
   "source": [
    "trackers = []\n",
    "trackers.extend(trackerlist('atom', 'default', None, 'ATOM'))\n",
    "trackers.extend(trackerlist('dimp', 'dimp18', None, 'DiMP18'))\n",
    "trackers.extend(trackerlist('tomp', 'tomp50', None, 'ToMP50'))\n",
    "trackers.extend(trackerlist('tamos', 'tamos_resenet50', None, 'TaMOs'))\n",
    "\n",
    "dataset = get_dataset('got10k_test')\n",
    "plot_results(trackers, dataset, 'got10k', merge_results=True, plot_types=('success', 'prec', 'norm_prec'), skip_missing_seq=False, force_evaluation=True, plot_bin_gap=0.05, exclude_invalid_frames=False)\n",
    "print_results(trackers, dataset, 'got10k', merge_results=True, plot_types=('success', 'prec', 'norm_prec'))\n"
   ]
  },
  {
   "cell_type": "markdown",
   "metadata": {},
   "source": [
    "## Plots for LaSOT"
   ]
  },
  {
   "cell_type": "code",
   "execution_count": null,
   "metadata": {},
   "outputs": [],
   "source": [
    "trackers = []\n",
    "trackers.extend(trackerlist('atom', 'default', range(0,5), 'ATOM'))\n",
    "trackers.extend(trackerlist('dimp', 'dimp18', range(0,5), 'DiMP18'))\n",
    "trackers.extend(trackerlist('dimp', 'dimp50', range(0,5), 'DiMP50'))\n",
    "trackers.extend(trackerlist('dimp', 'prdimp18', range(0,5), 'PrDiMP18'))\n",
    "trackers.extend(trackerlist('dimp', 'prdimp50', range(0,5), 'PrDiMP50'))\n",
    "\n",
    "dataset = get_dataset('lasot')\n",
    "plot_results(trackers, dataset, 'LaSOT', merge_results=True, plot_types=('success'), \n",
    "             skip_missing_seq=False, force_evaluation=True, plot_bin_gap=0.05)"
   ]
  },
  {
   "cell_type": "markdown",
   "metadata": {},
   "source": [
    "## Tables for OTB, NFS, UAV and LaSOT"
   ]
  },
  {
   "cell_type": "code",
   "execution_count": null,
   "metadata": {},
   "outputs": [],
   "source": [
    "trackers = []\n",
    "trackers.extend(trackerlist('atom', 'default', range(0,5), 'ATOM'))\n",
    "trackers.extend(trackerlist('dimp', 'dimp18', range(0,5), 'DiMP18'))\n",
    "trackers.extend(trackerlist('dimp', 'dimp50', range(0,5), 'DiMP50'))\n",
    "trackers.extend(trackerlist('dimp', 'prdimp18', range(0,5), 'PrDiMP18'))\n",
    "trackers.extend(trackerlist('dimp', 'prdimp50', range(0,5), 'PrDiMP50'))\n",
    "\n",
    "dataset = get_dataset('otb')\n",
    "print_results(trackers, dataset, 'OTB', merge_results=True, plot_types=('success', 'prec', 'norm_prec'))\n",
    "\n",
    "dataset = get_dataset('nfs')\n",
    "print_results(trackers, dataset, 'NFS', merge_results=True, plot_types=('success', 'prec', 'norm_prec'))\n",
    "\n",
    "dataset = get_dataset('uav')\n",
    "print_results(trackers, dataset, 'UAV', merge_results=True, plot_types=('success', 'prec', 'norm_prec'))\n",
    "\n",
    "dataset = get_dataset('otb', 'nfs', 'uav')\n",
    "print_results(trackers, dataset, 'OTB+NFS+UAV', merge_results=True, plot_types=('success', 'prec', 'norm_prec'))\n",
    "\n",
    "dataset = get_dataset('lasot')\n",
    "print_results(trackers, dataset, 'LaSOT', merge_results=True, plot_types=('success', 'prec', 'norm_prec'))"
   ]
  },
  {
   "cell_type": "markdown",
   "metadata": {},
   "source": [
    "## Filtered per-sequence results"
   ]
  },
  {
   "cell_type": "code",
   "execution_count": null,
   "metadata": {},
   "outputs": [],
   "source": [
    "# Print per sequence results for sequences where all trackers fail, i.e. all trackers have average overlap in percentage of less than 10.0\n",
    "filter_criteria = {'mode': 'ao_max', 'threshold': 10.0}\n",
    "dataset = get_dataset('otb', 'nfs', 'uav')\n",
    "print_per_sequence_results(trackers, dataset, 'OTB+NFS+UAV', merge_results=True, filter_criteria=filter_criteria, force_evaluation=False)"
   ]
  },
  {
   "cell_type": "code",
   "execution_count": null,
   "metadata": {},
   "outputs": [],
   "source": [
    "# Print per sequence results for sequences where at least one tracker fails, i.e. a tracker has average overlap in percentage of less than 10.0\n",
    "filter_criteria = {'mode': 'ao_min', 'threshold': 10.0}\n",
    "dataset = get_dataset('otb', 'nfs', 'uav')\n",
    "print_per_sequence_results(trackers, dataset, 'OTB+NFS+UAV', merge_results=True, filter_criteria=filter_criteria, force_evaluation=False)"
   ]
  },
  {
   "cell_type": "code",
   "execution_count": null,
   "metadata": {},
   "outputs": [],
   "source": [
    "# Print per sequence results for sequences where the trackers have differing behavior.\n",
    "# i.e. average overlap in percentage for different trackers on a sequence differ by at least 40.0\n",
    "filter_criteria = {'mode': 'delta_ao', 'threshold': 40.0}\n",
    "dataset = get_dataset('otb', 'nfs', 'uav')\n",
    "print_per_sequence_results(trackers, dataset, 'OTB+NFS+UAV', merge_results=True, filter_criteria=filter_criteria, force_evaluation=False)"
   ]
  },
  {
   "cell_type": "code",
   "execution_count": null,
   "metadata": {},
   "outputs": [],
   "source": [
    "# Print per sequence results for all sequences\n",
    "filter_criteria = None\n",
    "dataset = get_dataset('otb', 'nfs', 'uav')\n",
    "print_per_sequence_results(trackers, dataset, 'OTB+NFS+UAV', merge_results=True, filter_criteria=filter_criteria, force_evaluation=False)"
   ]
  }
 ],
 "metadata": {
  "kernelspec": {
   "display_name": "Python 3 (ipykernel)",
   "language": "python",
   "name": "python3"
  },
  "language_info": {
   "codemirror_mode": {
    "name": "ipython",
    "version": 3
   },
   "file_extension": ".py",
   "mimetype": "text/x-python",
   "name": "python",
   "nbconvert_exporter": "python",
   "pygments_lexer": "ipython3",
   "version": "3.10.9"
  }
 },
 "nbformat": 4,
 "nbformat_minor": 4
}
